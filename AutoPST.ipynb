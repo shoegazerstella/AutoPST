{
  "nbformat": 4,
  "nbformat_minor": 0,
  "metadata": {
    "colab": {
      "name": "AutoPST.ipynb",
      "provenance": [],
      "collapsed_sections": []
    },
    "kernelspec": {
      "name": "python3",
      "display_name": "Python 3"
    },
    "language_info": {
      "name": "python"
    },
    "accelerator": "GPU"
  },
  "cells": [
    {
      "cell_type": "code",
      "metadata": {
        "colab": {
          "base_uri": "https://localhost:8080/"
        },
        "id": "Q7zvvvKkRnZT",
        "outputId": "70ffb17d-6f7c-46f7-f3c4-dd8541a6ae0f"
      },
      "source": [
        "from google.colab import drive\n",
        "drive.mount('/content/drive')"
      ],
      "execution_count": 11,
      "outputs": [
        {
          "output_type": "stream",
          "name": "stdout",
          "text": [
            "Drive already mounted at /content/drive; to attempt to forcibly remount, call drive.mount(\"/content/drive\", force_remount=True).\n"
          ]
        }
      ]
    },
    {
      "cell_type": "code",
      "metadata": {
        "id": "XHQ-D8SfHvrQ"
      },
      "source": [
        "#%cd /content/drive/MyDrive/CODE/VoiceAE/\n",
        "#!git clone https://github.com/auspicious3000/AutoPST.git"
      ],
      "execution_count": 12,
      "outputs": []
    },
    {
      "cell_type": "code",
      "metadata": {
        "colab": {
          "base_uri": "https://localhost:8080/",
          "height": 1000
        },
        "id": "0z_S53xoF6gI",
        "outputId": "536a8678-ee05-44bc-a02a-5e4abb7fe16e"
      },
      "source": [
        "!pip install numpy scipy torch==1.6.0 librosa pysptk soundfile wavenet_vocoder==0.1.1 OpenNMT-py"
      ],
      "execution_count": 13,
      "outputs": [
        {
          "output_type": "stream",
          "name": "stdout",
          "text": [
            "\u001b[33mWARNING: Ignoring invalid distribution -orch (/usr/local/lib/python3.7/dist-packages)\u001b[0m\n",
            "\u001b[33mWARNING: Ignoring invalid distribution -orch (/usr/local/lib/python3.7/dist-packages)\u001b[0m\n",
            "Requirement already satisfied: numpy in /usr/local/lib/python3.7/dist-packages (1.19.5)\n",
            "Requirement already satisfied: scipy in /usr/local/lib/python3.7/dist-packages (1.4.1)\n",
            "Collecting torch==1.6.0\n",
            "  Using cached torch-1.6.0-cp37-cp37m-manylinux1_x86_64.whl (748.8 MB)\n",
            "Requirement already satisfied: librosa in /usr/local/lib/python3.7/dist-packages (0.8.1)\n",
            "Collecting pysptk\n",
            "  Using cached pysptk-0.1.18-cp37-cp37m-linux_x86_64.whl\n",
            "Requirement already satisfied: soundfile in /usr/local/lib/python3.7/dist-packages (0.10.3.post1)\n",
            "Collecting wavenet_vocoder==0.1.1\n",
            "  Using cached wavenet_vocoder-0.1.1-py3-none-any.whl\n",
            "Collecting OpenNMT-py\n",
            "  Using cached OpenNMT_py-2.2.0-py3-none-any.whl (216 kB)\n",
            "Requirement already satisfied: future in /usr/local/lib/python3.7/dist-packages (from torch==1.6.0) (0.16.0)\n",
            "Requirement already satisfied: scikit-learn!=0.19.0,>=0.14.0 in /usr/local/lib/python3.7/dist-packages (from librosa) (0.22.2.post1)\n",
            "Requirement already satisfied: joblib>=0.14 in /usr/local/lib/python3.7/dist-packages (from librosa) (1.0.1)\n",
            "Requirement already satisfied: resampy>=0.2.2 in /usr/local/lib/python3.7/dist-packages (from librosa) (0.2.2)\n",
            "Requirement already satisfied: audioread>=2.0.0 in /usr/local/lib/python3.7/dist-packages (from librosa) (2.1.9)\n",
            "Requirement already satisfied: pooch>=1.0 in /usr/local/lib/python3.7/dist-packages (from librosa) (1.5.1)\n",
            "Requirement already satisfied: numba>=0.43.0 in /usr/local/lib/python3.7/dist-packages (from librosa) (0.51.2)\n",
            "Requirement already satisfied: packaging>=20.0 in /usr/local/lib/python3.7/dist-packages (from librosa) (21.0)\n",
            "Requirement already satisfied: decorator>=3.0.0 in /usr/local/lib/python3.7/dist-packages (from librosa) (4.4.2)\n",
            "Requirement already satisfied: cffi>=1.0 in /usr/local/lib/python3.7/dist-packages (from soundfile) (1.14.6)\n",
            "Requirement already satisfied: pycparser in /usr/local/lib/python3.7/dist-packages (from cffi>=1.0->soundfile) (2.20)\n",
            "Requirement already satisfied: setuptools in /usr/local/lib/python3.7/dist-packages (from numba>=0.43.0->librosa) (57.4.0)\n",
            "Requirement already satisfied: llvmlite<0.35,>=0.34.0.dev0 in /usr/local/lib/python3.7/dist-packages (from numba>=0.43.0->librosa) (0.34.0)\n",
            "Requirement already satisfied: pyparsing>=2.0.2 in /usr/local/lib/python3.7/dist-packages (from packaging>=20.0->librosa) (2.4.7)\n",
            "Requirement already satisfied: requests in /usr/local/lib/python3.7/dist-packages (from pooch>=1.0->librosa) (2.23.0)\n",
            "Requirement already satisfied: appdirs in /usr/local/lib/python3.7/dist-packages (from pooch>=1.0->librosa) (1.4.4)\n",
            "Requirement already satisfied: six>=1.3 in /usr/local/lib/python3.7/dist-packages (from resampy>=0.2.2->librosa) (1.15.0)\n",
            "Collecting pyonmttok<2,>=1.23\n",
            "  Using cached pyonmttok-1.28.0-cp37-cp37m-manylinux2010_x86_64.whl (15.8 MB)\n",
            "Collecting torchtext==0.5.0\n",
            "  Using cached torchtext-0.5.0-py3-none-any.whl (73 kB)\n",
            "Requirement already satisfied: flask in /usr/local/lib/python3.7/dist-packages (from OpenNMT-py) (1.1.4)\n",
            "Collecting waitress\n",
            "  Using cached waitress-2.0.0-py3-none-any.whl (56 kB)\n",
            "Requirement already satisfied: tensorboard>=2.3 in /usr/local/lib/python3.7/dist-packages (from OpenNMT-py) (2.6.0)\n",
            "Collecting configargparse\n",
            "  Using cached ConfigArgParse-1.5.2-py3-none-any.whl (20 kB)\n",
            "Requirement already satisfied: pyyaml in /usr/local/lib/python3.7/dist-packages (from OpenNMT-py) (3.13)\n",
            "Requirement already satisfied: tqdm in /usr/local/lib/python3.7/dist-packages (from torchtext==0.5.0->OpenNMT-py) (4.62.2)\n",
            "Collecting sentencepiece\n",
            "  Using cached sentencepiece-0.1.96-cp37-cp37m-manylinux_2_17_x86_64.manylinux2014_x86_64.whl (1.2 MB)\n",
            "Requirement already satisfied: tensorboard-plugin-wit>=1.6.0 in /usr/local/lib/python3.7/dist-packages (from tensorboard>=2.3->OpenNMT-py) (1.8.0)\n",
            "Requirement already satisfied: werkzeug>=0.11.15 in /usr/local/lib/python3.7/dist-packages (from tensorboard>=2.3->OpenNMT-py) (1.0.1)\n",
            "Requirement already satisfied: google-auth<2,>=1.6.3 in /usr/local/lib/python3.7/dist-packages (from tensorboard>=2.3->OpenNMT-py) (1.35.0)\n",
            "Requirement already satisfied: tensorboard-data-server<0.7.0,>=0.6.0 in /usr/local/lib/python3.7/dist-packages (from tensorboard>=2.3->OpenNMT-py) (0.6.1)\n",
            "Requirement already satisfied: absl-py>=0.4 in /usr/local/lib/python3.7/dist-packages (from tensorboard>=2.3->OpenNMT-py) (0.12.0)\n",
            "Requirement already satisfied: google-auth-oauthlib<0.5,>=0.4.1 in /usr/local/lib/python3.7/dist-packages (from tensorboard>=2.3->OpenNMT-py) (0.4.6)\n",
            "Requirement already satisfied: protobuf>=3.6.0 in /usr/local/lib/python3.7/dist-packages (from tensorboard>=2.3->OpenNMT-py) (3.17.3)\n",
            "Requirement already satisfied: wheel>=0.26 in /usr/local/lib/python3.7/dist-packages (from tensorboard>=2.3->OpenNMT-py) (0.37.0)\n",
            "Requirement already satisfied: markdown>=2.6.8 in /usr/local/lib/python3.7/dist-packages (from tensorboard>=2.3->OpenNMT-py) (3.3.4)\n",
            "Requirement already satisfied: grpcio>=1.24.3 in /usr/local/lib/python3.7/dist-packages (from tensorboard>=2.3->OpenNMT-py) (1.40.0)\n",
            "Requirement already satisfied: cachetools<5.0,>=2.0.0 in /usr/local/lib/python3.7/dist-packages (from google-auth<2,>=1.6.3->tensorboard>=2.3->OpenNMT-py) (4.2.2)\n",
            "Requirement already satisfied: rsa<5,>=3.1.4 in /usr/local/lib/python3.7/dist-packages (from google-auth<2,>=1.6.3->tensorboard>=2.3->OpenNMT-py) (4.7.2)\n",
            "Requirement already satisfied: pyasn1-modules>=0.2.1 in /usr/local/lib/python3.7/dist-packages (from google-auth<2,>=1.6.3->tensorboard>=2.3->OpenNMT-py) (0.2.8)\n",
            "Requirement already satisfied: requests-oauthlib>=0.7.0 in /usr/local/lib/python3.7/dist-packages (from google-auth-oauthlib<0.5,>=0.4.1->tensorboard>=2.3->OpenNMT-py) (1.3.0)\n",
            "Requirement already satisfied: importlib-metadata in /usr/local/lib/python3.7/dist-packages (from markdown>=2.6.8->tensorboard>=2.3->OpenNMT-py) (4.8.1)\n",
            "Requirement already satisfied: pyasn1<0.5.0,>=0.4.6 in /usr/local/lib/python3.7/dist-packages (from pyasn1-modules>=0.2.1->google-auth<2,>=1.6.3->tensorboard>=2.3->OpenNMT-py) (0.4.8)\n",
            "Requirement already satisfied: certifi>=2017.4.17 in /usr/local/lib/python3.7/dist-packages (from requests->pooch>=1.0->librosa) (2021.5.30)\n",
            "Requirement already satisfied: chardet<4,>=3.0.2 in /usr/local/lib/python3.7/dist-packages (from requests->pooch>=1.0->librosa) (3.0.4)\n",
            "Requirement already satisfied: urllib3!=1.25.0,!=1.25.1,<1.26,>=1.21.1 in /usr/local/lib/python3.7/dist-packages (from requests->pooch>=1.0->librosa) (1.24.3)\n",
            "Requirement already satisfied: idna<3,>=2.5 in /usr/local/lib/python3.7/dist-packages (from requests->pooch>=1.0->librosa) (2.10)\n",
            "Requirement already satisfied: oauthlib>=3.0.0 in /usr/local/lib/python3.7/dist-packages (from requests-oauthlib>=0.7.0->google-auth-oauthlib<0.5,>=0.4.1->tensorboard>=2.3->OpenNMT-py) (3.1.1)\n",
            "Requirement already satisfied: click<8.0,>=5.1 in /usr/local/lib/python3.7/dist-packages (from flask->OpenNMT-py) (7.1.2)\n",
            "Requirement already satisfied: itsdangerous<2.0,>=0.24 in /usr/local/lib/python3.7/dist-packages (from flask->OpenNMT-py) (1.1.0)\n",
            "Requirement already satisfied: Jinja2<3.0,>=2.10.1 in /usr/local/lib/python3.7/dist-packages (from flask->OpenNMT-py) (2.11.3)\n",
            "Requirement already satisfied: MarkupSafe>=0.23 in /usr/local/lib/python3.7/dist-packages (from Jinja2<3.0,>=2.10.1->flask->OpenNMT-py) (2.0.1)\n",
            "Requirement already satisfied: typing-extensions>=3.6.4 in /usr/local/lib/python3.7/dist-packages (from importlib-metadata->markdown>=2.6.8->tensorboard>=2.3->OpenNMT-py) (3.7.4.3)\n",
            "Requirement already satisfied: zipp>=0.5 in /usr/local/lib/python3.7/dist-packages (from importlib-metadata->markdown>=2.6.8->tensorboard>=2.3->OpenNMT-py) (3.5.0)\n",
            "\u001b[33mWARNING: Ignoring invalid distribution -orch (/usr/local/lib/python3.7/dist-packages)\u001b[0m\n",
            "Installing collected packages: torch, sentencepiece, waitress, torchtext, pyonmttok, configargparse, wavenet-vocoder, pysptk, OpenNMT-py\n",
            "  Attempting uninstall: torchtext\n",
            "\u001b[33m    WARNING: Ignoring invalid distribution -orch (/usr/local/lib/python3.7/dist-packages)\u001b[0m\n",
            "    Found existing installation: torchtext 0.10.0\n",
            "    Uninstalling torchtext-0.10.0:\n",
            "      Successfully uninstalled torchtext-0.10.0\n",
            "\u001b[33mWARNING: Ignoring invalid distribution -orch (/usr/local/lib/python3.7/dist-packages)\u001b[0m\n",
            "\u001b[33mWARNING: Ignoring invalid distribution -orch (/usr/local/lib/python3.7/dist-packages)\u001b[0m\n",
            "\u001b[33mWARNING: Ignoring invalid distribution -orch (/usr/local/lib/python3.7/dist-packages)\u001b[0m\n",
            "\u001b[33mWARNING: Ignoring invalid distribution -orch (/usr/local/lib/python3.7/dist-packages)\u001b[0m\n",
            "\u001b[33mWARNING: Ignoring invalid distribution -orch (/usr/local/lib/python3.7/dist-packages)\u001b[0m\n",
            "\u001b[33mWARNING: Ignoring invalid distribution -orch (/usr/local/lib/python3.7/dist-packages)\u001b[0m\n",
            "\u001b[33mWARNING: Ignoring invalid distribution -orch (/usr/local/lib/python3.7/dist-packages)\u001b[0m\n",
            "\u001b[33mWARNING: Ignoring invalid distribution -orch (/usr/local/lib/python3.7/dist-packages)\u001b[0m\n",
            "\u001b[33mWARNING: Ignoring invalid distribution -orch (/usr/local/lib/python3.7/dist-packages)\u001b[0m\n",
            "\u001b[31mERROR: pip's dependency resolver does not currently take into account all the packages that are installed. This behaviour is the source of the following dependency conflicts.\n",
            "torchvision 0.10.0+cu102 requires torch==1.9.0, but you have torch 1.6.0 which is incompatible.\u001b[0m\n",
            "Successfully installed OpenNMT-py-2.2.0 configargparse-1.5.2 pyonmttok-1.28.0 pysptk-0.1.18 sentencepiece-0.1.96 torch-1.6.0 torchtext-0.5.0 waitress-2.0.0 wavenet-vocoder-0.1.1\n"
          ]
        },
        {
          "output_type": "display_data",
          "data": {
            "application/vnd.colab-display-data+json": {
              "pip_warning": {
                "packages": [
                  "torch"
                ]
              }
            }
          },
          "metadata": {}
        }
      ]
    },
    {
      "cell_type": "code",
      "metadata": {
        "colab": {
          "base_uri": "https://localhost:8080/"
        },
        "id": "PtvSzDRaF4A6",
        "outputId": "48c9f5c9-8027-407f-e091-1ff17d299ef4"
      },
      "source": [
        "%cd /content/drive/MyDrive/CODE/VoiceAE/\n",
        "!ls AutoPST/assets"
      ],
      "execution_count": 14,
      "outputs": [
        {
          "output_type": "stream",
          "name": "stdout",
          "text": [
            "/content/drive/MyDrive/CODE/VoiceAE\n",
            "580000-P.ckpt\t\t\t  g_03280000\t     sea.ckpt\n",
            "checkpoint_step001000000_ema.pth  mfcc_stats.pkl     spk2emb_82.pkl\n",
            "cover.png\t\t\t  p231_p270_001.wav  test_vctk.meta\n"
          ]
        }
      ]
    },
    {
      "cell_type": "code",
      "metadata": {
        "colab": {
          "base_uri": "https://localhost:8080/"
        },
        "id": "FX8EMJ_0HVdU",
        "outputId": "4e733c83-2cbb-42e9-8703-9b60e7ba83f6"
      },
      "source": [
        "%cd /content/drive/MyDrive/CODE/VoiceAE/AutoPST/\n",
        "import os\n",
        "import pickle\n",
        "import numpy as np\n",
        "import torch\n",
        "import torch.nn.functional as F\n",
        "from collections import OrderedDict\n",
        "from onmt.utils.misc import sequence_mask\n",
        "from model_autopst import Generator_2 as Predictor\n",
        "from hparams_autopst import hparams"
      ],
      "execution_count": 15,
      "outputs": [
        {
          "output_type": "stream",
          "name": "stdout",
          "text": [
            "/content/drive/MyDrive/CODE/VoiceAE/AutoPST\n"
          ]
        }
      ]
    },
    {
      "cell_type": "code",
      "metadata": {
        "colab": {
          "base_uri": "https://localhost:8080/"
        },
        "id": "Yi-fPmI2HXKa",
        "outputId": "4546ddc3-b2c7-49a1-9ea6-efa8f1dcb26d"
      },
      "source": [
        "device = torch.cuda.current_device()\n",
        "\n",
        "P = Predictor(hparams).eval().to(device)\n",
        "\n",
        "checkpoint = torch.load('./assets/580000-P.ckpt', map_location=lambda storage, loc: storage)  \n",
        "P.load_state_dict(checkpoint['model'], strict=True)\n",
        "print('Loaded predictor .....................................................')\n",
        "\n",
        "dict_test = pickle.load(open('./assets/test_vctk.meta', 'rb'))"
      ],
      "execution_count": 16,
      "outputs": [
        {
          "output_type": "stream",
          "name": "stdout",
          "text": [
            "Loaded predictor .....................................................\n"
          ]
        }
      ]
    },
    {
      "cell_type": "markdown",
      "metadata": {
        "id": "3aH2WEGLO8C3"
      },
      "source": [
        "### Compute Spectrogram\n",
        "from new audio file"
      ]
    },
    {
      "cell_type": "code",
      "metadata": {
        "colab": {
          "base_uri": "https://localhost:8080/"
        },
        "id": "gCZE861VNPSB",
        "outputId": "8f517c39-a246-496c-e3ed-7f0e62e6acc7"
      },
      "source": [
        "%cd /content/drive/MyDrive/CODE/VoiceAE/\n",
        "import os\n",
        "import pickle\n",
        "import numpy as np\n",
        "import librosa\n",
        "import soundfile as sf\n",
        "from scipy import signal\n",
        "from scipy.signal import get_window\n",
        "from librosa.filters import mel\n",
        "from numpy.random import RandomState\n",
        "\n",
        "\n",
        "def butter_highpass(cutoff, fs, order=5):\n",
        "    nyq = 0.5 * fs\n",
        "    normal_cutoff = cutoff / nyq\n",
        "    b, a = signal.butter(order, normal_cutoff, btype='high', analog=False)\n",
        "    return b, a\n",
        "    \n",
        "    \n",
        "def pySTFT(x, fft_length=1024, hop_length=256):\n",
        "    \n",
        "    x = np.pad(x, int(fft_length//2), mode='reflect')\n",
        "    \n",
        "    noverlap = fft_length - hop_length\n",
        "    shape = x.shape[:-1]+((x.shape[-1]-noverlap)//hop_length, fft_length)\n",
        "    strides = x.strides[:-1]+(hop_length*x.strides[-1], x.strides[-1])\n",
        "    result = np.lib.stride_tricks.as_strided(x, shape=shape,\n",
        "                                             strides=strides)\n",
        "    \n",
        "    fft_window = get_window('hann', fft_length, fftbins=True)\n",
        "    result = np.fft.rfft(fft_window * result, n=fft_length).T\n",
        "    \n",
        "    return np.abs(result)    \n",
        "    \n",
        "    \n",
        "mel_basis = mel(16000, 1024, fmin=90, fmax=7600, n_mels=80).T\n",
        "min_level = np.exp(-100 / 20 * np.log(10))\n",
        "b, a = butter_highpass(30, 16000, order=5)\n",
        "\n",
        "AUDIO_DIR = \"/content/drive/MyDrive/CODE/VoiceAE/audio/\"\n",
        "filename = os.path.join(AUDIO_DIR, \"test.wav\")\n",
        "\n",
        "# Read audio file\n",
        "#x, fs = sf.read(filename) sr=16000\n",
        "x, fs = librosa.load(filename, duration=4)\n",
        "\n",
        "# Remove drifting noise\n",
        "#y = signal.filtfilt(b, a, x)\n",
        "y = x\n",
        "\n",
        "# Ddd a little random noise for model roubstness\n",
        "#wav = y * 0.96 + (prng.rand(y.shape[0])-0.5)*1e-06\n",
        "wav = y\n",
        "\n",
        "# Compute spect\n",
        "D = pySTFT(wav).T\n",
        "\n",
        "# Convert to mel and normalize\n",
        "D_mel = np.dot(D, mel_basis)\n",
        "D_db = 20 * np.log10(np.maximum(min_level, D_mel)) - 16\n",
        "S = np.clip((D_db + 100) / 100, 0, 1)    \n",
        "\n",
        "# save spect    \n",
        "np.save(os.path.join(AUDIO_DIR, filename[:-4]), S.astype(np.float32), allow_pickle=False)"
      ],
      "execution_count": 19,
      "outputs": [
        {
          "output_type": "stream",
          "name": "stdout",
          "text": [
            "/content/drive/MyDrive/CODE/VoiceAE\n"
          ]
        }
      ]
    },
    {
      "cell_type": "markdown",
      "metadata": {
        "id": "Eec0Accy5W2e"
      },
      "source": [
        "don't know how to use this code below yet\n",
        "\n",
        "it should allow to change speaker"
      ]
    },
    {
      "cell_type": "code",
      "metadata": {
        "id": "jzyWU9FpJyyl"
      },
      "source": [
        "spect_vc = OrderedDict()\n",
        "\n",
        "uttrs = [('p231', 'p270', '001'),\n",
        "         ('p270', 'p231', '001'),\n",
        "         ('p231', 'p245', '003001'),\n",
        "         ('p245', 'p231', '003001'),\n",
        "         ('p239', 'p270', '024002'),\n",
        "         ('p270', 'p239', '024002')]\n",
        "\n",
        "\n",
        "for uttr in uttrs:\n",
        "        \n",
        "    cep_real, spk_emb = dict_test[uttr[0]][uttr[2]]\n",
        "    cep_real_A = torch.from_numpy(cep_real).unsqueeze(0).to(device)\n",
        "    len_real_A = torch.tensor(cep_real_A.size(1)).unsqueeze(0).to(device)\n",
        "    real_mask_A = sequence_mask(len_real_A, cep_real_A.size(1)).float()\n",
        "    \n",
        "    _, spk_emb = dict_test[uttr[1]][uttr[2]]\n",
        "    spk_emb_B = torch.from_numpy(spk_emb).unsqueeze(0).to(device)\n",
        "    \n",
        "    with torch.no_grad():\n",
        "        spect_output, len_spect = P.infer_onmt(cep_real_A.transpose(2,1)[:,:14,:],\n",
        "                                               real_mask_A,\n",
        "                                               len_real_A,\n",
        "                                               spk_emb_B)\n",
        "    \n",
        "    uttr_tgt = spect_output[:len_spect[0],0,:].cpu().numpy()\n",
        "        \n",
        "    spect_vc[f'{uttr[0]}_{uttr[1]}_{uttr[2]}'] = uttr_tgt"
      ],
      "execution_count": 17,
      "outputs": []
    },
    {
      "cell_type": "markdown",
      "metadata": {
        "id": "37oj87mQ4rii"
      },
      "source": [
        "### Spectrogram to Waveform"
      ]
    },
    {
      "cell_type": "code",
      "metadata": {
        "colab": {
          "base_uri": "https://localhost:8080/"
        },
        "id": "hxKV3l4lJ4w_",
        "outputId": "6b200628-2501-45b6-81f4-3c386d2fca63"
      },
      "source": [
        "%cd /content/drive/MyDrive/CODE/VoiceAE/AutoPST/\n",
        "# Feel free to use other vocoders\n",
        "# This cell requires some preparation to work, please see the corresponding part in AutoVC\n",
        "import torch\n",
        "import soundfile as sf\n",
        "import pickle\n",
        "import os\n",
        "from synthesis import build_model\n",
        "from synthesis import wavegen\n",
        "\n",
        "model = build_model().to(device)\n",
        "checkpoint = torch.load(\"./assets/checkpoint_step001000000_ema.pth\")\n",
        "model.load_state_dict(checkpoint[\"state_dict\"])\n",
        "\n",
        "#for name, sp in spect_vc.items():\n",
        "    #print(name, sp.shape)\n",
        "    #waveform = wavegen(model, c=sp)   \n",
        "    #librosa.output.write_wav('./assets/'+name+'.wav', waveform, sr=16000)\n",
        "    #sf.write('./assets/'+name+'.wav', waveform, 16000, 'PCM_24')\n",
        "\n",
        "# predict\n",
        "waveform = wavegen(model, c=S)   \n",
        "sf.write( os.path.join(AUDIO_DIR, 'test_pred.wav'), waveform, 16000, 'PCM_24')"
      ],
      "execution_count": 18,
      "outputs": [
        {
          "output_type": "stream",
          "name": "stdout",
          "text": [
            "/content/drive/MyDrive/CODE/VoiceAE/AutoPST\n"
          ]
        },
        {
          "output_type": "execute_result",
          "data": {
            "text/plain": [
              "<All keys matched successfully>"
            ]
          },
          "metadata": {},
          "execution_count": 18
        }
      ]
    }
  ]
}